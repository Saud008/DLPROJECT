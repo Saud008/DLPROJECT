{
  "cells": [
    {
      "cell_type": "markdown",
      "metadata": {
        "id": "qkoiPcpJQh4k"
      },
      "source": [
        "\n",
        "# **Mounting From Google drive**"
      ]
    },
    {
      "cell_type": "code",
      "execution_count": 2,
      "metadata": {
        "colab": {
          "base_uri": "https://localhost:8080/"
        },
        "id": "MD2TzRINLJ9n",
        "outputId": "3cf8520f-9abe-44b3-8b7c-27550b022b0d"
      },
      "outputs": [
        {
          "name": "stdout",
          "output_type": "stream",
          "text": [
            "Mounted at /content/drive\n"
          ]
        }
      ],
      "source": [
        "from google.colab import drive\n",
        "drive.mount('/content/drive')"
      ]
    },
    {
      "cell_type": "markdown",
      "metadata": {
        "id": "lKOlSWwYOtn3"
      },
      "source": [
        "# Exploring and Adjusting Dataset (**No need to Run**)\n",
        "\n",
        "Uncomment this section"
      ]
    },
    {
      "cell_type": "markdown",
      "metadata": {
        "id": "RIx5Z4GkhHec"
      },
      "source": [
        "## Generating true labels"
      ]
    },
    {
      "cell_type": "code",
      "execution_count": 3,
      "metadata": {
        "id": "3DaVzY74ZiM-"
      },
      "outputs": [],
      "source": [
        "import json\n",
        "# Opening JSON file\n",
        "f = open('/content/drive/MyDrive/dataset/a15083/train/train.json',)\n",
        "\n",
        "label_train = json.load(f)"
      ]
    },
    {
      "cell_type": "code",
      "execution_count": 4,
      "metadata": {
        "colab": {
          "base_uri": "https://localhost:8080/"
        },
        "id": "Rg3saUzbXnUo",
        "outputId": "d0041cb8-5c76-46fb-921d-d653f160ca49"
      },
      "outputs": [
        {
          "data": {
            "text/plain": [
              "{'170906-113317-Al 2mm-part3': 1,\n",
              " '170906-144958-Al 2mm': 1,\n",
              " '170904-141730-Al 2mm-part2': 2,\n",
              " '170904-151845-Al 2mm-part2': 2,\n",
              " '170906-153326-Al 2mm-part2': 2,\n",
              " '170904-141232-Al 2mm-part2': 2,\n",
              " '170913-151508-Al 2mm-part2': 2,\n",
              " '170904-150144-Al 2mm-part1': 2,\n",
              " '170913-143933-Al 2mm-part2': 2,\n",
              " '170913-152931-Al 2mm-part2': 2,\n",
              " '170906-141809-Al 2mm-part2': 2,\n",
              " '170815-134756-Al 2mm': 2,\n",
              " '170904-115959-Al 2mm': 2,\n",
              " '170815-133921-Al 2mm': 2,\n",
              " '170904-112347-Al 2mm': 2,\n",
              " '170904-145718-Al 2mm-part2': 4,\n",
              " '170904-141730-Al 2mm-part3': 4,\n",
              " '170905-110711-Al 2mm-part2': 4,\n",
              " '170904-141232-Al 2mm-part3': 4,\n",
              " '170913-155806-Al 2mm-part2': 4,\n",
              " '170904-152301-Al 2mm-part1': 4,\n",
              " '170904-113012-Al 2mm-part2': 4,\n",
              " '170904-154202-Al 2mm-part2': 4,\n",
              " '170904-155523-Al 2mm': 4,\n",
              " '170913-140725-Al 2mm': 4,\n",
              " '170913-152931-Al 2mm-part1': 0,\n",
              " '170913-151508-Al 2mm-part1': 0,\n",
              " '170913-143933-Al 2mm-part1': 0,\n",
              " '170904-141730-Al 2mm-part1': 0,\n",
              " '170904-145718-Al 2mm-part1': 0,\n",
              " '170913-142501-Al 2mm': 0,\n",
              " '170905-114307-Al 2mm': 0,\n",
              " '170905-115602-Al 2mm': 0,\n",
              " '170913-155806-Al 2mm-part1': 0,\n",
              " '170906-114912-Al 2mm': 0,\n",
              " '170906-141809-Al 2mm-part1': 0,\n",
              " '170906-120346-Al 2mm': 0,\n",
              " '170905-110711-Al 2mm-part1': 5,\n",
              " '170904-113012-Al 2mm-part1': 5,\n",
              " '170906-153326-Al 2mm-part1': 5,\n",
              " '170904-115503-Al 2mm': 5,\n",
              " '170904-141232-Al 2mm-part1': 5,\n",
              " '170904-151845-Al 2mm-part1': 5,\n",
              " '170906-150010-Al 2mm': 3,\n",
              " '170906-151353-Al 2mm': 3,\n",
              " '170906-150801-Al 2mm': 3}"
            ]
          },
          "execution_count": 4,
          "metadata": {},
          "output_type": "execute_result"
        }
      ],
      "source": [
        "keys_orig = list(label_train.keys())\n",
        "values = list(label_train.values())\n",
        "keys = []\n",
        "for key in keys_orig:\n",
        "  a_string = key\n",
        "  a_string = a_string.replace(\"/\", \" \")\n",
        "  x = a_string.split()\n",
        "  string = x[0]+' '+x[1]\n",
        "  keys.append(string)\n",
        "true_labels_dict = {keys[i]: values[i] for i in range(len(keys))}\n",
        "true_labels_dict"
      ]
    },
    {
      "cell_type": "markdown",
      "metadata": {
        "id": "mZP7iKXhwwiK"
      },
      "source": [
        "## Generating the Dataset Information"
      ]
    },
    {
      "cell_type": "code",
      "execution_count": 5,
      "metadata": {
        "id": "S8Mq1ER1hAWS"
      },
      "outputs": [],
      "source": [
        "import numpy as np\n",
        "import pandas as pd\n",
        "import os\n",
        "from os import walk"
      ]
    },
    {
      "cell_type": "code",
      "execution_count": 6,
      "metadata": {
        "id": "Ukc5V09GhEV-"
      },
      "outputs": [],
      "source": [
        "location_folders = '/content/drive/MyDrive/dataset/a15083/train/'\n",
        "folders = []\n",
        "\n",
        "# Get the list of directories (folders) in the given location\n",
        "for (_, dirnames, _) in walk(location_folders):\n",
        "    folders.extend(dirnames)\n",
        "    break\n",
        "\n",
        "num_files = []\n",
        "\n",
        "# Iterate over each folder to count the number of files\n",
        "for folder in folders:\n",
        "    location_files = location_folders + folder + '/'\n",
        "    files = []\n",
        "\n",
        "    for (_, _, filenames) in walk(location_files):\n",
        "        files.extend(filenames)\n",
        "        break\n",
        "\n",
        "    num_files.append(len(files))\n",
        "\n",
        "# Convert the list to a numpy array\n",
        "num_files = np.array(num_files)\n",
        "\n",
        "# Define true_labels mapping (replace with your actual mapping)\n",
        "true_labels = {folder: idx for idx, folder in enumerate(folders)}\n",
        "\n",
        "# Map true labels to folders\n",
        "label = [true_labels[folder] for folder in folders]\n",
        "\n",
        "# Create a DataFrame with folder details\n",
        "train_data = pd.DataFrame({\n",
        "    'folders': folders,\n",
        "    'number_of_files': num_files,\n",
        "    'Labels': label\n",
        "})\n",
        "\n",
        "# Sort the DataFrame by Labels\n",
        "train_data_detail = train_data.sort_values(by=['Labels'])\n"
      ]
    },
    {
      "cell_type": "code",
      "execution_count": 7,
      "metadata": {
        "id": "Y0cYRc1jnV52"
      },
      "outputs": [],
      "source": [
        "filename = 'data_detail.csv'\n",
        "train_data_detail.to_csv(filename, index=False)\n",
        "# import os\n",
        "# os.chdir(r'/content/')\n",
        "# from IPython.display import FileLink\n",
        "# FileLink(r'data_detail.csv')"
      ]
    },
    {
      "cell_type": "markdown",
      "metadata": {
        "id": "LrliTuk5JY_P"
      },
      "source": [
        "## Changing the dataset in Gdrive(Run only Once)\n",
        "Uncomment First"
      ]
    },
    {
      "cell_type": "code",
      "execution_count": 8,
      "metadata": {
        "id": "AX4YQoaXtYab"
      },
      "outputs": [],
      "source": [
        "import os\n",
        "from os import walk\n",
        "\n",
        "location_folders = '/content/drive/MyDrive/dataset/a15083/train/train.json'\n",
        "folders = []\n",
        "for (_, dirnames, _) in walk(location_folders):\n",
        "    folders.extend(dirnames)\n",
        "    break\n",
        "# folders\n",
        "for folder in folders:\n",
        "  location_files = location_folders + folder +'/'\n",
        "  files =[]\n",
        "  for (_, _, filenames) in walk(location_files):\n",
        "    files.extend(filenames)\n",
        "    break\n",
        "  # print(len(files))\n",
        "\n",
        "#   \"\"\"\n",
        "#   Now we need to reduce the skewness of the data\n",
        "#   Min is 55 and max goes to 2400\n",
        "#   \"\"\"\n",
        "  if true_labels[folder] == 0:\n",
        "    for i,file in enumerate(files):\n",
        "      if (i+1)%8 == 1:\n",
        "        # print('Skipped successfully')\n",
        "        None\n",
        "      else:\n",
        "        # path = os.path.join(location_files, file)\n",
        "        path = location_files + file\n",
        "        os.remove(path)\n",
        "        print(\"%s has been removed successfully\" %file)\n",
        "  elif true_labels[folder] == 1:\n",
        "    for i,file in enumerate(files):\n",
        "      if (i+1)%2 == 1:\n",
        "        None\n",
        "      else:\n",
        "        # path = os.path.join(location_files, file)\n",
        "        path = location_files + file\n",
        "        os.remove(path)\n",
        "        print(\"%s has been removed successfully\" %file)\n",
        "  elif true_labels[folder] == 2:\n",
        "    for i,file in enumerate(files):\n",
        "      if (i+1)%7 == 1:\n",
        "        None\n",
        "      else:\n",
        "        # path = os.path.join(location_files, file)\n",
        "        path = location_files + file\n",
        "        os.remove(path)\n",
        "        print(\"%s has been removed successfully\" %file)\n",
        "  elif true_labels[folder] == 3:\n",
        "    for i,file in enumerate(files):\n",
        "      if (i+1)%4 == 1:\n",
        "        None\n",
        "      else:\n",
        "        # path = os.path.join(location_files, file)\n",
        "        path = location_files + file\n",
        "        os.remove(path)\n",
        "        print(\"%s has been removed successfully\" %file)\n",
        "  elif true_labels[folder] == 4:\n",
        "    for i,file in enumerate(files):\n",
        "      if (i+1)%3 == 1:\n",
        "        None\n",
        "      else:\n",
        "        # path = os.path.join(location_files, file)\n",
        "        path = location_files + file\n",
        "        os.remove(path)\n",
        "        print(\"%s has been removed successfully\" %file)\n",
        "  elif true_labels[folder] == 5:\n",
        "    for i,file in enumerate(files):\n",
        "      if (i+1)%3 == 1:\n",
        "        None\n",
        "      else:\n",
        "        # path = os.path.join(location_files, file)\n",
        "        path = location_files + file\n",
        "        os.remove(path)\n",
        "        print(\"%s has been removed successfully\" %file)"
      ]
    },
    {
      "cell_type": "code",
      "execution_count": 9,
      "metadata": {
        "id": "-kuoWbC30Cui"
      },
      "outputs": [],
      "source": [
        "if len(files) <= 150:\n",
        "    pass\n",
        "elif len(files) > 150 and len(files) <= 400:\n",
        "    for i, file in enumerate(files):\n",
        "        if (i + 1) % 5 == 1:\n",
        "            pass\n",
        "        else:\n",
        "            # Remove the file\n",
        "            path = location_files + file\n",
        "            os.remove(path)\n",
        "            print(f\"{file} has been removed successfully\")\n",
        "elif len(files) > 400 and len(files) <= 1000:\n",
        "    for i, file in enumerate(files):\n",
        "        if (i + 1) % 8 == 1:\n",
        "            pass\n",
        "        else:\n",
        "            # Remove the file\n",
        "            path = location_files + file\n",
        "            os.remove(path)\n",
        "            print(f\"{file} has been removed successfully\")\n",
        "elif len(files) > 1000:\n",
        "    for file in files:\n",
        "        # Remove the file (no conditions here for >1000)\n",
        "        path = location_files + file\n",
        "        os.remove(path)\n",
        "        print(f\"{file} has been removed successfully\")\n"
      ]
    },
    {
      "cell_type": "markdown",
      "metadata": {
        "id": "sDwcs4fN_-st"
      },
      "source": [
        "# CNN Model"
      ]
    },
    {
      "cell_type": "markdown",
      "metadata": {
        "id": "qsT2726VOtn_"
      },
      "source": [
        "## Importing Required Libraries"
      ]
    },
    {
      "cell_type": "code",
      "execution_count": 10,
      "metadata": {
        "colab": {
          "base_uri": "https://localhost:8080/"
        },
        "id": "iH6U8Hy_OtoB",
        "outputId": "0280909a-3e10-4182-8cc5-cfbd6eeb2d7c",
        "trusted": true
      },
      "outputs": [
        {
          "data": {
            "text/plain": [
              "<torch.autograd.grad_mode.set_grad_enabled at 0x79b83ac56da0>"
            ]
          },
          "execution_count": 10,
          "metadata": {},
          "output_type": "execute_result"
        }
      ],
      "source": [
        "import numpy as np\n",
        "import pandas as pd\n",
        "import torch\n",
        "import torch.nn as nn\n",
        "from torch.nn import functional as F\n",
        "from torch.nn.parameter import Parameter\n",
        "import torch.optim as optim\n",
        "\n",
        "from torch.utils.data import Dataset, DataLoader, random_split\n",
        "from torchvision import transforms, utils, datasets\n",
        "import matplotlib.pyplot as plt\n",
        "\n",
        "\n",
        "torch.set_printoptions(linewidth=120)\n",
        "torch.set_grad_enabled(True)"
      ]
    },
    {
      "cell_type": "markdown",
      "metadata": {
        "id": "xiFG2FReOtoQ"
      },
      "source": [
        "## Dataset Creation"
      ]
    },
    {
      "cell_type": "code",
      "execution_count": 11,
      "metadata": {
        "id": "_b1Q1FMuVcjG"
      },
      "outputs": [],
      "source": [
        "mean = 0.2069\n",
        "std = 0.1471"
      ]
    },
    {
      "cell_type": "code",
      "execution_count": 12,
      "metadata": {
        "id": "e-zj0CBrVQyb"
      },
      "outputs": [],
      "source": [
        "data_dir = '/content/drive/MyDrive/dataset/a15083/train'\n",
        "transform = transforms.Compose([\n",
        "     transforms.CenterCrop((800,800)),\n",
        "     transforms.ToTensor(),\n",
        "     transforms.Normalize(mean, std)\n",
        "     ])\n",
        "\n",
        "train_dataset = datasets.ImageFolder(root =data_dir,transform = transform)"
      ]
    },
    {
      "cell_type": "code",
      "execution_count": 13,
      "metadata": {
        "id": "UMroL9wq_ZHc"
      },
      "outputs": [],
      "source": [
        "original_labels_dict = train_dataset.class_to_idx"
      ]
    },
    {
      "cell_type": "markdown",
      "metadata": {
        "id": "cSOI2d8bZaun"
      },
      "source": [
        "## Matching the loaded data with Labels"
      ]
    },
    {
      "cell_type": "code",
      "execution_count": 14,
      "metadata": {
        "colab": {
          "base_uri": "https://localhost:8080/"
        },
        "id": "noyyL2JLRcWF",
        "outputId": "afdd5168-ce36-4dd1-bfd5-84995b07fc78"
      },
      "outputs": [
        {
          "data": {
            "text/plain": [
              "{'170906-113317-Al 2mm-part3': 1,\n",
              " '170906-144958-Al 2mm': 1,\n",
              " '170904-141730-Al 2mm-part2': 2,\n",
              " '170904-151845-Al 2mm-part2': 2,\n",
              " '170906-153326-Al 2mm-part2': 2,\n",
              " '170904-141232-Al 2mm-part2': 2,\n",
              " '170913-151508-Al 2mm-part2': 2,\n",
              " '170904-150144-Al 2mm-part1': 2,\n",
              " '170913-143933-Al 2mm-part2': 2,\n",
              " '170913-152931-Al 2mm-part2': 2,\n",
              " '170906-141809-Al 2mm-part2': 2,\n",
              " '170815-134756-Al 2mm': 2,\n",
              " '170904-115959-Al 2mm': 2,\n",
              " '170815-133921-Al 2mm': 2,\n",
              " '170904-112347-Al 2mm': 2,\n",
              " '170904-145718-Al 2mm-part2': 4,\n",
              " '170904-141730-Al 2mm-part3': 4,\n",
              " '170905-110711-Al 2mm-part2': 4,\n",
              " '170904-141232-Al 2mm-part3': 4,\n",
              " '170913-155806-Al 2mm-part2': 4,\n",
              " '170904-152301-Al 2mm-part1': 4,\n",
              " '170904-113012-Al 2mm-part2': 4,\n",
              " '170904-154202-Al 2mm-part2': 4,\n",
              " '170904-155523-Al 2mm': 4,\n",
              " '170913-140725-Al 2mm': 4,\n",
              " '170913-152931-Al 2mm-part1': 0,\n",
              " '170913-151508-Al 2mm-part1': 0,\n",
              " '170913-143933-Al 2mm-part1': 0,\n",
              " '170904-141730-Al 2mm-part1': 0,\n",
              " '170904-145718-Al 2mm-part1': 0,\n",
              " '170913-142501-Al 2mm': 0,\n",
              " '170905-114307-Al 2mm': 0,\n",
              " '170905-115602-Al 2mm': 0,\n",
              " '170913-155806-Al 2mm-part1': 0,\n",
              " '170906-114912-Al 2mm': 0,\n",
              " '170906-141809-Al 2mm-part1': 0,\n",
              " '170906-120346-Al 2mm': 0,\n",
              " '170905-110711-Al 2mm-part1': 5,\n",
              " '170904-113012-Al 2mm-part1': 5,\n",
              " '170906-153326-Al 2mm-part1': 5,\n",
              " '170904-115503-Al 2mm': 5,\n",
              " '170904-141232-Al 2mm-part1': 5,\n",
              " '170904-151845-Al 2mm-part1': 5,\n",
              " '170906-150010-Al 2mm': 3,\n",
              " '170906-151353-Al 2mm': 3,\n",
              " '170906-150801-Al 2mm': 3}"
            ]
          },
          "execution_count": 14,
          "metadata": {},
          "output_type": "execute_result"
        }
      ],
      "source": [
        "import json\n",
        "# Opening JSON file\n",
        "f = open('/content/drive/MyDrive/dataset/a15083/train/train.json',)\n",
        "\n",
        "label_train = json.load(f)\n",
        "keys_orig = list(label_train.keys())\n",
        "values = list(label_train.values())\n",
        "keys = []\n",
        "for key in keys_orig:\n",
        "  a_string = key\n",
        "  a_string = a_string.replace(\"/\", \" \")\n",
        "  x = a_string.split()\n",
        "  string = x[0]+' '+x[1]\n",
        "  keys.append(string)\n",
        "true_labels_dict = {keys[i]: values[i] for i in range(len(keys))}\n",
        "true_labels_dict"
      ]
    },
    {
      "cell_type": "markdown",
      "metadata": {
        "id": "XYz-24OHOtoK"
      },
      "source": [
        "## Network Architecture"
      ]
    },
    {
      "cell_type": "code",
      "execution_count": 15,
      "metadata": {
        "id": "ZeAWj52pZvmD"
      },
      "outputs": [],
      "source": [
        "class Network(nn.Module):\n",
        "    def __init__(self):\n",
        "        super().__init__()\n",
        "\n",
        "        self.features = nn.Sequential(\n",
        "            nn.MaxPool2d(kernel_size=2),\n",
        "            nn.Conv2d(3, 8, kernel_size=5, stride=2),\n",
        "            nn.BatchNorm2d(8),\n",
        "            nn.ReLU(inplace=True),\n",
        "            nn.Dropout(p = 0.1),\n",
        "\n",
        "            nn.MaxPool2d(kernel_size=2),\n",
        "            nn.Conv2d(8, 16, kernel_size=5, stride=2),\n",
        "            nn.BatchNorm2d(16),\n",
        "            nn.ReLU(inplace=True),\n",
        "            nn.Dropout(p = 0.2),\n",
        "\n",
        "            nn.MaxPool2d(kernel_size=2),\n",
        "            nn.Conv2d(16, 16, kernel_size=5),\n",
        "            nn.BatchNorm2d(16),\n",
        "            nn.ReLU(inplace=True),\n",
        "            nn.Dropout(p = 0.2),\n",
        "\n",
        "            nn.MaxPool2d(kernel_size=2),\n",
        "            nn.Conv2d(16,8, kernel_size=3),\n",
        "            nn.BatchNorm2d(8),\n",
        "            nn.ReLU(inplace=True),\n",
        "        )\n",
        "\n",
        "        self.classifier = nn.Sequential(\n",
        "            nn.Dropout(p = 0.2),\n",
        "            nn.Linear(102400//200, 256),\n",
        "            # nn.BatchNorm1d(256),\n",
        "            nn.ReLU(inplace=True),\n",
        "\n",
        "            nn.Dropout(p = 0.2),\n",
        "            nn.Linear(256, 128),\n",
        "            # nn.BatchNorm1d(128),\n",
        "            nn.ReLU(inplace=True),\n",
        "\n",
        "            nn.Dropout(p = 0.1),\n",
        "            nn.Linear(128, 6),\n",
        "#             nn.BatchNorm1d(512), not in this model\n",
        "            nn.Softmax(dim=1)\n",
        "        )\n",
        "\n",
        "\n",
        "\n",
        "    def forward(self, x):\n",
        "        x = self.features(x)\n",
        "        x = x.reshape(-1, 102400//200)\n",
        "        x = self.classifier(x)\n",
        "\n",
        "        return x\n",
        "\n",
        "def get_num_correct(pred, label):\n",
        "    return pred.argmax(dim=1).eq(label).sum().item()"
      ]
    },
    {
      "cell_type": "markdown",
      "metadata": {
        "id": "WTk2063-Oton"
      },
      "source": [
        "## Creating an Instance of the Network"
      ]
    },
    {
      "cell_type": "code",
      "execution_count": 16,
      "metadata": {
        "id": "rSLMaxgGOtoo",
        "trusted": true
      },
      "outputs": [],
      "source": [
        "net = Network()\n",
        "# net"
      ]
    },
    {
      "cell_type": "code",
      "execution_count": 17,
      "metadata": {
        "colab": {
          "base_uri": "https://localhost:8080/"
        },
        "id": "RhLXh4GXOtou",
        "outputId": "67274627-a4d6-49dc-a32d-bee8c6834075",
        "trusted": true
      },
      "outputs": [
        {
          "data": {
            "text/plain": [
              "True"
            ]
          },
          "execution_count": 17,
          "metadata": {},
          "output_type": "execute_result"
        }
      ],
      "source": [
        "torch.cuda.is_available()"
      ]
    },
    {
      "cell_type": "code",
      "execution_count": 18,
      "metadata": {
        "colab": {
          "base_uri": "https://localhost:8080/"
        },
        "id": "KXPq0_EbOtoy",
        "outputId": "560d6f6b-f625-445d-8367-8cbb63bd58ae",
        "trusted": true
      },
      "outputs": [
        {
          "name": "stdout",
          "output_type": "stream",
          "text": [
            "cuda:0\n",
            "Running on the GPU\n"
          ]
        }
      ],
      "source": [
        "device = torch.device(\"cuda:0\")\n",
        "print(device)\n",
        "if torch.cuda.is_available():\n",
        "    device = torch.device(\"cuda:0\")  # you can continue going on here, like cuda:1 cuda:2....etc.\n",
        "    print(\"Running on the GPU\")\n",
        "else:\n",
        "    device = torch.device(\"cpu\")\n",
        "    print(\"Running on the CPU\")"
      ]
    },
    {
      "cell_type": "code",
      "execution_count": 19,
      "metadata": {
        "colab": {
          "base_uri": "https://localhost:8080/"
        },
        "id": "0lRcuiLTOto1",
        "outputId": "c7c81504-5fca-4909-e6b6-391df82a7a64",
        "trusted": true
      },
      "outputs": [
        {
          "data": {
            "text/plain": [
              "Network(\n",
              "  (features): Sequential(\n",
              "    (0): MaxPool2d(kernel_size=2, stride=2, padding=0, dilation=1, ceil_mode=False)\n",
              "    (1): Conv2d(3, 8, kernel_size=(5, 5), stride=(2, 2))\n",
              "    (2): BatchNorm2d(8, eps=1e-05, momentum=0.1, affine=True, track_running_stats=True)\n",
              "    (3): ReLU(inplace=True)\n",
              "    (4): Dropout(p=0.1, inplace=False)\n",
              "    (5): MaxPool2d(kernel_size=2, stride=2, padding=0, dilation=1, ceil_mode=False)\n",
              "    (6): Conv2d(8, 16, kernel_size=(5, 5), stride=(2, 2))\n",
              "    (7): BatchNorm2d(16, eps=1e-05, momentum=0.1, affine=True, track_running_stats=True)\n",
              "    (8): ReLU(inplace=True)\n",
              "    (9): Dropout(p=0.2, inplace=False)\n",
              "    (10): MaxPool2d(kernel_size=2, stride=2, padding=0, dilation=1, ceil_mode=False)\n",
              "    (11): Conv2d(16, 16, kernel_size=(5, 5), stride=(1, 1))\n",
              "    (12): BatchNorm2d(16, eps=1e-05, momentum=0.1, affine=True, track_running_stats=True)\n",
              "    (13): ReLU(inplace=True)\n",
              "    (14): Dropout(p=0.2, inplace=False)\n",
              "    (15): MaxPool2d(kernel_size=2, stride=2, padding=0, dilation=1, ceil_mode=False)\n",
              "    (16): Conv2d(16, 8, kernel_size=(3, 3), stride=(1, 1))\n",
              "    (17): BatchNorm2d(8, eps=1e-05, momentum=0.1, affine=True, track_running_stats=True)\n",
              "    (18): ReLU(inplace=True)\n",
              "  )\n",
              "  (classifier): Sequential(\n",
              "    (0): Dropout(p=0.2, inplace=False)\n",
              "    (1): Linear(in_features=512, out_features=256, bias=True)\n",
              "    (2): ReLU(inplace=True)\n",
              "    (3): Dropout(p=0.2, inplace=False)\n",
              "    (4): Linear(in_features=256, out_features=128, bias=True)\n",
              "    (5): ReLU(inplace=True)\n",
              "    (6): Dropout(p=0.1, inplace=False)\n",
              "    (7): Linear(in_features=128, out_features=6, bias=True)\n",
              "    (8): Softmax(dim=1)\n",
              "  )\n",
              ")"
            ]
          },
          "execution_count": 19,
          "metadata": {},
          "output_type": "execute_result"
        }
      ],
      "source": [
        "net = Network()\n",
        "net.to(device)"
      ]
    },
    {
      "cell_type": "markdown",
      "metadata": {
        "id": "DOaQqZsX4KhM"
      },
      "source": [
        "## Label Mapping"
      ]
    },
    {
      "cell_type": "code",
      "execution_count": 20,
      "metadata": {
        "colab": {
          "base_uri": "https://localhost:8080/"
        },
        "id": "VKisCfi78N51",
        "outputId": "5464a738-5b64-4d84-cd08-27a642f16c31"
      },
      "outputs": [
        {
          "data": {
            "text/plain": [
              "{0: 2,\n",
              " 1: 2,\n",
              " 2: 2,\n",
              " 3: 5,\n",
              " 4: 4,\n",
              " 5: 5,\n",
              " 6: 2,\n",
              " 7: 5,\n",
              " 8: 2,\n",
              " 9: 4,\n",
              " 10: 0,\n",
              " 11: 2,\n",
              " 12: 4,\n",
              " 13: 0,\n",
              " 14: 4,\n",
              " 15: 2,\n",
              " 16: 5,\n",
              " 17: 2,\n",
              " 18: 4,\n",
              " 19: 4,\n",
              " 20: 4,\n",
              " 21: 5,\n",
              " 22: 4,\n",
              " 23: 0,\n",
              " 24: 0,\n",
              " 25: 1,\n",
              " 26: 0,\n",
              " 27: 0,\n",
              " 28: 0,\n",
              " 29: 2,\n",
              " 30: 1,\n",
              " 31: 3,\n",
              " 32: 3,\n",
              " 33: 3,\n",
              " 34: 5,\n",
              " 35: 2,\n",
              " 36: 4,\n",
              " 37: 0,\n",
              " 38: 0,\n",
              " 39: 2,\n",
              " 40: 0,\n",
              " 41: 2,\n",
              " 42: 0,\n",
              " 43: 2,\n",
              " 44: 0,\n",
              " 45: 4}"
            ]
          },
          "execution_count": 20,
          "metadata": {},
          "output_type": "execute_result"
        }
      ],
      "source": [
        "label_map_dict = {}\n",
        "\n",
        "for key,value in original_labels_dict.items():\n",
        "  label_map_dict.update({value:true_labels_dict[key]})\n",
        "label_map_dict"
      ]
    },
    {
      "cell_type": "markdown",
      "metadata": {
        "id": "PIQLdUk5Oto5"
      },
      "source": [
        "## Training the Network"
      ]
    },
    {
      "cell_type": "code",
      "execution_count": 21,
      "metadata": {
        "id": "3bLdbeK9_99l"
      },
      "outputs": [],
      "source": [
        "# for batch in train_loader:\n",
        "#   image, label_original = batch\n",
        "#   label = [label_map_dict[lab.item()] for lab in label_original]\n",
        "#   # for lab in label:\n",
        "#   #   print(lab.item())\n",
        "# print(label)"
      ]
    },
    {
      "cell_type": "code",
      "execution_count": 22,
      "metadata": {
        "id": "JYRCFDxdaO77"
      },
      "outputs": [],
      "source": [
        "train_loader = DataLoader(train_dataset, batch_size=200, shuffle=True)\n",
        "optimizer = optim.Adam(net.parameters(), lr=5e-4, weight_decay = 1e-3)"
      ]
    },
    {
      "cell_type": "code",
      "execution_count": 23,
      "metadata": {
        "colab": {
          "base_uri": "https://localhost:8080/"
        },
        "id": "UIYtswCgfAz1",
        "outputId": "e1141239-990c-4107-8245-2f5c13a44b74"
      },
      "outputs": [
        {
          "name": "stdout",
          "output_type": "stream",
          "text": [
            "5389\n",
            "27\n"
          ]
        }
      ],
      "source": [
        "print(len(train_dataset))\n",
        "print(len(train_loader))"
      ]
    },
    {
      "cell_type": "code",
      "execution_count": 24,
      "metadata": {
        "colab": {
          "base_uri": "https://localhost:8080/"
        },
        "id": "rcBIMxQ_Oto5",
        "outputId": "16daf2f6-543c-4d4a-97de-23a039498a21",
        "trusted": true
      },
      "outputs": [
        {
          "name": "stdout",
          "output_type": "stream",
          "text": [
            "Batch No. 1 / 27  Batch Accuracy : 20.5\n",
            "Batch No. 2 / 27  Batch Accuracy : 26.5\n",
            "Batch No. 3 / 27  Batch Accuracy : 29.0\n",
            "Batch No. 4 / 27  Batch Accuracy : 30.25\n",
            "Batch No. 5 / 27  Batch Accuracy : 32.8\n",
            "Batch No. 6 / 27  Batch Accuracy : 35.583333333333336\n",
            "Batch No. 7 / 27  Batch Accuracy : 39.42857142857143\n",
            "Batch No. 8 / 27  Batch Accuracy : 42.5\n",
            "Batch No. 9 / 27  Batch Accuracy : 44.0\n",
            "Batch No. 10 / 27  Batch Accuracy : 45.1\n",
            "Batch No. 11 / 27  Batch Accuracy : 45.95454545454545\n",
            "Batch No. 12 / 27  Batch Accuracy : 46.666666666666664\n",
            "Batch No. 13 / 27  Batch Accuracy : 47.07692307692308\n",
            "Batch No. 14 / 27  Batch Accuracy : 47.357142857142854\n",
            "Batch No. 15 / 27  Batch Accuracy : 48.0\n",
            "Batch No. 16 / 27  Batch Accuracy : 48.53125\n",
            "Batch No. 17 / 27  Batch Accuracy : 49.1764705882353\n",
            "Batch No. 18 / 27  Batch Accuracy : 50.05555555555556\n",
            "Batch No. 19 / 27  Batch Accuracy : 50.973684210526315\n",
            "Batch No. 20 / 27  Batch Accuracy : 51.9\n",
            "Batch No. 21 / 27  Batch Accuracy : 52.476190476190474\n",
            "Batch No. 22 / 27  Batch Accuracy : 52.95454545454545\n",
            "Batch No. 23 / 27  Batch Accuracy : 53.45652173913044\n",
            "Batch No. 24 / 27  Batch Accuracy : 54.104166666666664\n",
            "Batch No. 25 / 27  Batch Accuracy : 54.48\n",
            "Batch No. 26 / 27  Batch Accuracy : 55.0\n",
            "Batch No. 27 / 27  Batch Accuracy : 55.22360363703841\n",
            "epoch:  1 , Total_correct:  2976 , Loss: :  42.770044803619385  Accuracy:  55.22360363703841\n",
            "Batch No. 1 / 27  Batch Accuracy : 71.0\n",
            "Batch No. 2 / 27  Batch Accuracy : 70.75\n",
            "Batch No. 3 / 27  Batch Accuracy : 71.16666666666667\n",
            "Batch No. 4 / 27  Batch Accuracy : 72.5\n",
            "Batch No. 5 / 27  Batch Accuracy : 74.7\n",
            "Batch No. 6 / 27  Batch Accuracy : 76.16666666666667\n",
            "Batch No. 7 / 27  Batch Accuracy : 76.71428571428571\n",
            "Batch No. 8 / 27  Batch Accuracy : 77.0\n",
            "Batch No. 9 / 27  Batch Accuracy : 77.38888888888889\n",
            "Batch No. 10 / 27  Batch Accuracy : 77.7\n",
            "Batch No. 11 / 27  Batch Accuracy : 77.95454545454545\n",
            "Batch No. 12 / 27  Batch Accuracy : 78.0\n",
            "Batch No. 13 / 27  Batch Accuracy : 78.26923076923077\n",
            "Batch No. 14 / 27  Batch Accuracy : 78.85714285714286\n",
            "Batch No. 15 / 27  Batch Accuracy : 79.03333333333333\n",
            "Batch No. 16 / 27  Batch Accuracy : 79.40625\n",
            "Batch No. 17 / 27  Batch Accuracy : 80.05882352941177\n",
            "Batch No. 18 / 27  Batch Accuracy : 80.69444444444444\n",
            "Batch No. 19 / 27  Batch Accuracy : 81.05263157894737\n",
            "Batch No. 20 / 27  Batch Accuracy : 81.4\n",
            "Batch No. 21 / 27  Batch Accuracy : 81.88095238095238\n",
            "Batch No. 22 / 27  Batch Accuracy : 82.38636363636364\n",
            "Batch No. 23 / 27  Batch Accuracy : 82.67391304347827\n",
            "Batch No. 24 / 27  Batch Accuracy : 83.08333333333333\n",
            "Batch No. 25 / 27  Batch Accuracy : 83.4\n",
            "Batch No. 26 / 27  Batch Accuracy : 83.73076923076923\n",
            "Batch No. 27 / 27  Batch Accuracy : 83.85600296901094\n",
            "epoch:  2 , Total_correct:  4519 , Loss: :  33.42582809925079  Accuracy:  83.85600296901094\n",
            "Batch No. 1 / 27  Batch Accuracy : 88.0\n",
            "Batch No. 2 / 27  Batch Accuracy : 89.0\n",
            "Batch No. 3 / 27  Batch Accuracy : 90.66666666666667\n",
            "Batch No. 4 / 27  Batch Accuracy : 91.125\n",
            "Batch No. 5 / 27  Batch Accuracy : 91.7\n",
            "Batch No. 6 / 27  Batch Accuracy : 92.08333333333333\n",
            "Batch No. 7 / 27  Batch Accuracy : 91.92857142857143\n",
            "Batch No. 8 / 27  Batch Accuracy : 92.25\n",
            "Batch No. 9 / 27  Batch Accuracy : 92.05555555555556\n",
            "Batch No. 10 / 27  Batch Accuracy : 92.05\n",
            "Batch No. 11 / 27  Batch Accuracy : 92.31818181818181\n",
            "Batch No. 12 / 27  Batch Accuracy : 92.45833333333333\n",
            "Batch No. 13 / 27  Batch Accuracy : 92.65384615384616\n",
            "Batch No. 14 / 27  Batch Accuracy : 92.89285714285714\n",
            "Batch No. 15 / 27  Batch Accuracy : 93.03333333333333\n",
            "Batch No. 16 / 27  Batch Accuracy : 93.09375\n",
            "Batch No. 17 / 27  Batch Accuracy : 93.11764705882354\n",
            "Batch No. 18 / 27  Batch Accuracy : 93.27777777777777\n",
            "Batch No. 19 / 27  Batch Accuracy : 93.3157894736842\n",
            "Batch No. 20 / 27  Batch Accuracy : 93.325\n",
            "Batch No. 21 / 27  Batch Accuracy : 93.19047619047619\n",
            "Batch No. 22 / 27  Batch Accuracy : 93.4090909090909\n",
            "Batch No. 23 / 27  Batch Accuracy : 93.45652173913044\n",
            "Batch No. 24 / 27  Batch Accuracy : 93.52083333333333\n",
            "Batch No. 25 / 27  Batch Accuracy : 93.64\n",
            "Batch No. 26 / 27  Batch Accuracy : 93.65384615384616\n",
            "Batch No. 27 / 27  Batch Accuracy : 93.67229541658935\n",
            "epoch:  3 , Total_correct:  5048 , Loss: :  30.358972191810608  Accuracy:  93.67229541658935\n",
            "CPU times: user 5min 30s, sys: 1min 54s, total: 7min 24s\n",
            "Wall time: 33min 12s\n"
          ]
        }
      ],
      "source": [
        "%%time\n",
        "# tic()\n",
        "epoch = 0\n",
        "acc = 0\n",
        "while epoch<10 and acc<90:\n",
        "# for epoch in range(20): #\n",
        "    total_loss = 0\n",
        "    total_correct =0\n",
        "    i=1\n",
        "    total_length = 0\n",
        "    for batch in train_loader:\n",
        "        image, label_original = batch\n",
        "        label = [label_map_dict[lab.item()] for lab in label_original]\n",
        "        label = torch.tensor(label)\n",
        "        # if i<10:\n",
        "\n",
        "\n",
        "        pred = net(image.to(device))\n",
        "        loss = F.cross_entropy(pred, label.to(device))\n",
        "#         loss = F.mse_loss(pred, label.to(device))\n",
        "\n",
        "        optimizer.zero_grad()\n",
        "        loss.backward()\n",
        "        optimizer.step()\n",
        "\n",
        "        total_loss += loss.item()\n",
        "        total_correct += get_num_correct(pred,label.to(device))\n",
        "        total_length += len(label)\n",
        "        acc = 100*total_correct/total_length\n",
        "        print('Batch No.', i,'/',len(train_loader), ' Batch Accuracy :',  acc)\n",
        "        i=i+1\n",
        "\n",
        "    acc = total_correct*100/len(train_dataset)\n",
        "    #-------------------------------------------------\n",
        "    print('epoch: ', epoch+1, ', Total_correct: ', total_correct,', Loss: : ', total_loss, ' Accuracy: ', total_correct*100/len(train_dataset))\n",
        "    epoch+=1\n",
        "# print(toc())\n",
        "# torch.set_grad_enabled(False)"
      ]
    },
    {
      "cell_type": "code",
      "execution_count": 25,
      "metadata": {
        "colab": {
          "base_uri": "https://localhost:8080/"
        },
        "id": "H-zX_3GmWq9r",
        "outputId": "21503d78-8545-43fd-bf27-1099c4950e9a"
      },
      "outputs": [
        {
          "data": {
            "text/plain": [
              "torch.Size([3, 800, 800])"
            ]
          },
          "execution_count": 25,
          "metadata": {},
          "output_type": "execute_result"
        }
      ],
      "source": [
        " img = image[0]\n",
        "img.shape"
      ]
    },
    {
      "cell_type": "code",
      "execution_count": 26,
      "metadata": {
        "colab": {
          "base_uri": "https://localhost:8080/",
          "height": 491
        },
        "id": "4OSQK6fTW5IL",
        "outputId": "7eba1d0e-0adc-46bf-9de1-432b67eb8b6f"
      },
      "outputs": [
        {
          "name": "stderr",
          "output_type": "stream",
          "text": [
            "WARNING:matplotlib.image:Clipping input data to the valid range for imshow with RGB data ([0..1] for floats or [0..255] for integers). Got range [-1.3265486..5.39157].\n"
          ]
        },
        {
          "data": {
            "text/plain": [
              "<matplotlib.image.AxesImage at 0x79b7a105e2f0>"
            ]
          },
          "execution_count": 26,
          "metadata": {},
          "output_type": "execute_result"
        },
        {
          "data": {
            "image/png": "[encoded data removed]",
            "text/plain": [
              "<Figure size 640x480 with 1 Axes>"
            ]
          },
          "metadata": {},
          "output_type": "display_data"
        }
      ],
      "source": [
        "plt.imshow(  img.permute(1, 2, 0)  )"
      ]
    },
    {
      "cell_type": "code",
      "execution_count": 27,
      "metadata": {
        "id": "D95lvKjz8GM9"
      },
      "outputs": [],
      "source": [
        "# while epoch<25:\n",
        "# # for epoch in range(20): #\n",
        "#     total_loss = 0\n",
        "#     total_correct =0\n",
        "#     i=1\n",
        "#     total_length = 0\n",
        "#     for batch in train_loader:\n",
        "#         image, label_original = batch\n",
        "#         label = [label_map_dict[lab.item()] for lab in label_original]\n",
        "#         label = torch.tensor(label)\n",
        "#         # if i<10:\n",
        "\n",
        "\n",
        "#         pred = net(image.to(device))\n",
        "#         loss = F.cross_entropy(pred, label.to(device))\n",
        "# #         loss = F.mse_loss(pred, label.to(device))\n",
        "\n",
        "#         optimizer.zero_grad()\n",
        "#         loss.backward()\n",
        "#         optimizer.step()\n",
        "\n",
        "#         total_loss += loss.item()\n",
        "#         total_correct += get_num_correct(pred,label.to(device))\n",
        "#         total_length += len(label)\n",
        "#         acc = 100*total_correct/total_length\n",
        "#         print('Batch No.', i, ' Batch Accuracy :',  acc)\n",
        "#         i=i+1\n",
        "\n",
        "#     acc = total_correct*100/len(train_dataset)\n",
        "#     #-------------------------------------------------\n",
        "#     print('epoch: ', epoch+1, ', Total_correct: ', total_correct,', Loss: : ', total_loss, ' Accuracy: ', total_correct*100/len(train_dataset))\n",
        "#     epoch+=1"
      ]
    },
    {
      "cell_type": "code",
      "execution_count": 28,
      "metadata": {
        "id": "TvZWiKJ-3-2k"
      },
      "outputs": [],
      "source": [
        "# torch.set_grad_enabled(True)"
      ]
    },
    {
      "cell_type": "markdown",
      "metadata": {
        "id": "Nk5mv55Jo3K9"
      },
      "source": [
        "## Saving model"
      ]
    },
    {
      "cell_type": "code",
      "execution_count": 1,
      "metadata": {
        "id": "U0GfOJDAoCvC"
      },
      "outputs": [
        {
          "ename": "NameError",
          "evalue": "name 'torch' is not defined",
          "output_type": "error",
          "traceback": [
            "\u001b[1;31m---------------------------------------------------------------------------\u001b[0m",
            "\u001b[1;31mNameError\u001b[0m                                 Traceback (most recent call last)",
            "Cell \u001b[1;32mIn[1], line 2\u001b[0m\n\u001b[0;32m      1\u001b[0m PATH_model \u001b[38;5;241m=\u001b[39m \u001b[38;5;124m\"\u001b[39m\u001b[38;5;124m/content/drive/My Drive/modelv5.pt\u001b[39m\u001b[38;5;124m\"\u001b[39m\n\u001b[1;32m----> 2\u001b[0m torch\u001b[38;5;241m.\u001b[39msave(net\u001b[38;5;241m.\u001b[39mstate_dict(), PATH_model)\n",
            "\u001b[1;31mNameError\u001b[0m: name 'torch' is not defined"
          ]
        }
      ],
      "source": [
        "PATH_model = \"/content/drive/My Drive/modelv5.pt\"\n",
        "torch.save(net.state_dict(), PATH_model)"
      ]
    },
    {
      "cell_type": "code",
      "execution_count": 30,
      "metadata": {
        "id": "DG7UPehe4Thr"
      },
      "outputs": [],
      "source": [
        "# checkpoint = {'model': net,\n",
        "#               'state_dict': net.state_dict(),\n",
        "#               'optimizer' : optimizer.state_dict()}\n",
        "\n",
        "# torch.save(checkpoint, 'checkpointv5.pt')\n",
        "\n",
        "# !cp checkpointv5.pt \"/content/drive/My Drive\""
      ]
    },
    {
      "cell_type": "markdown",
      "metadata": {
        "id": "j3G_ErC84yQY"
      },
      "source": [
        "# **Test the Model**"
      ]
    },
    {
      "cell_type": "markdown",
      "metadata": {
        "id": "49rO5rxo6LQ1"
      },
      "source": [
        "## New Section"
      ]
    },
    {
      "cell_type": "code",
      "execution_count": 31,
      "metadata": {
        "colab": {
          "base_uri": "https://localhost:8080/"
        },
        "id": "DazprovJ7gRB",
        "outputId": "252270d9-1623-44ae-ed1c-d86e4cf5c436"
      },
      "outputs": [
        {
          "data": {
            "text/plain": [
              "Dataset ImageFolder\n",
              "    Number of datapoints: 6588\n",
              "    Root location: /content/drive/MyDrive/dataset/a15083/test\n",
              "    StandardTransform\n",
              "Transform: Compose(\n",
              "               CenterCrop(size=(800, 800))\n",
              "               ToTensor()\n",
              "           )"
            ]
          },
          "execution_count": 31,
          "metadata": {},
          "output_type": "execute_result"
        }
      ],
      "source": [
        "test_data_dir = '/content/drive/MyDrive/dataset/a15083/test'\n",
        "\n",
        "transform_test = transforms.Compose([\n",
        "     transforms.CenterCrop((800,800)),\n",
        "     transforms.ToTensor(),\n",
        "     ])\n",
        "\n",
        "test_dataset = datasets.ImageFolder(root =test_data_dir,transform = transform_test)\n",
        "test_dataset"
      ]
    },
    {
      "cell_type": "markdown",
      "metadata": {
        "id": "c7QlFW4t58xV"
      },
      "source": [
        "## Generating true labels"
      ]
    },
    {
      "cell_type": "code",
      "execution_count": 32,
      "metadata": {
        "id": "RZqiAP6M58xW"
      },
      "outputs": [],
      "source": [
        "import json\n",
        "# Opening JSON file\n",
        "f = open('/content/drive/MyDrive/dataset/a15083/test/test.json',)\n",
        "\n",
        "label_test = json.load(f)"
      ]
    },
    {
      "cell_type": "code",
      "execution_count": 33,
      "metadata": {
        "colab": {
          "base_uri": "https://localhost:8080/"
        },
        "id": "cK_zRWIz58xY",
        "outputId": "b5a4539b-2795-43bb-cd1d-b504e5a1f0da"
      },
      "outputs": [
        {
          "data": {
            "text/plain": [
              "{'170906-143512-Al 2mm-part2': 1,\n",
              " '170904-155610-Al 2mm': 2,\n",
              " '170906-143512-Al 2mm-part1': 2,\n",
              " '170904-154202-Al 2mm-part1': 2,\n",
              " '170904-150144-Al 2mm-part2': 4,\n",
              " '170906-155007-Al 2mm-part2': 4,\n",
              " '170913-154448-Al 2mm': 0,\n",
              " '170906-113317-Al 2mm-part1': 0,\n",
              " '170905-112213-Al 2mm': 0,\n",
              " '170906-104925-Al 2mm': 0,\n",
              " '170904-152301-Al 2mm-part2': 5,\n",
              " '170906-153326-Al 2mm-part3': 3,\n",
              " '170906-151724-Al 2mm-part1': 3,\n",
              " '170906-155007-Al 2mm-part1': 3}"
            ]
          },
          "execution_count": 33,
          "metadata": {},
          "output_type": "execute_result"
        }
      ],
      "source": [
        "keys_orig = list(label_test.keys())\n",
        "values = list(label_test.values())\n",
        "keys = []\n",
        "for key in keys_orig:\n",
        "  a_string = key\n",
        "  a_string = a_string.replace(\"/\", \" \")\n",
        "  x = a_string.split()\n",
        "  string = x[0]+' '+x[1]\n",
        "  keys.append(string)\n",
        "true_test_labels_dict = {keys[i]: values[i] for i in range(len(keys))}\n",
        "true_test_labels_dict"
      ]
    },
    {
      "cell_type": "markdown",
      "metadata": {
        "id": "s1r10qKs6l4c"
      },
      "source": [
        "## Matching the loaded data with Labels"
      ]
    },
    {
      "cell_type": "code",
      "execution_count": 34,
      "metadata": {
        "colab": {
          "base_uri": "https://localhost:8080/"
        },
        "id": "f9fbBqmz6l4g",
        "outputId": "54abd676-a0c2-449f-f399-edf1ef845455"
      },
      "outputs": [
        {
          "data": {
            "text/plain": [
              "{'170904-150144-Al 2mm-part2': 0,\n",
              " '170904-152301-Al 2mm-part2': 1,\n",
              " '170904-154202-Al 2mm-part1': 2,\n",
              " '170904-155610-Al 2mm': 3,\n",
              " '170905-112213-Al 2mm': 4,\n",
              " '170906-104925-Al 2mm': 5,\n",
              " '170906-113317-Al 2mm-part1': 6,\n",
              " '170906-143512-Al 2mm-part1': 7,\n",
              " '170906-143512-Al 2mm-part2': 8,\n",
              " '170906-151724-Al 2mm-part1': 9,\n",
              " '170906-153326-Al 2mm-part3': 10,\n",
              " '170906-155007-Al 2mm-part1': 11,\n",
              " '170906-155007-Al 2mm-part2': 12,\n",
              " '170913-154448-Al 2mm': 13}"
            ]
          },
          "execution_count": 34,
          "metadata": {},
          "output_type": "execute_result"
        }
      ],
      "source": [
        "original_test_labels_dict = test_dataset.class_to_idx\n",
        "original_test_labels_dict"
      ]
    },
    {
      "cell_type": "markdown",
      "metadata": {
        "id": "JA-_yC636l4x"
      },
      "source": [
        "## Label Mapping"
      ]
    },
    {
      "cell_type": "code",
      "execution_count": 35,
      "metadata": {
        "colab": {
          "base_uri": "https://localhost:8080/"
        },
        "id": "Waz6j0la6l4x",
        "outputId": "aa8d94d5-c6c1-47c4-a94c-851fff46c4ea"
      },
      "outputs": [
        {
          "data": {
            "text/plain": [
              "{0: 4,\n",
              " 1: 5,\n",
              " 2: 2,\n",
              " 3: 2,\n",
              " 4: 0,\n",
              " 5: 0,\n",
              " 6: 0,\n",
              " 7: 2,\n",
              " 8: 1,\n",
              " 9: 3,\n",
              " 10: 3,\n",
              " 11: 3,\n",
              " 12: 4,\n",
              " 13: 0}"
            ]
          },
          "execution_count": 35,
          "metadata": {},
          "output_type": "execute_result"
        }
      ],
      "source": [
        "test_label_map_dict = {}\n",
        "\n",
        "for key,value in original_test_labels_dict.items():\n",
        "  test_label_map_dict.update({value:true_test_labels_dict[key]})\n",
        "test_label_map_dict"
      ]
    },
    {
      "cell_type": "markdown",
      "metadata": {
        "id": "gpJ9e40G6l5E"
      },
      "source": [
        "## New Section"
      ]
    },
    {
      "cell_type": "code",
      "execution_count": 36,
      "metadata": {
        "id": "_Zw4PIu74yQc",
        "trusted": true
      },
      "outputs": [],
      "source": [
        "# checkpoint = {'model': net,\n",
        "#               'state_dict': net.state_dict(),\n",
        "#               'optimizer' : optimizer.state_dict()}\n",
        "\n",
        "# torch.save(checkpoint, 'checkpoint3.pth')\n",
        "\n",
        "# !cp checkpoint3.pth \"/content/drive/My Drive/Trained models\"\n"
      ]
    },
    {
      "cell_type": "code",
      "execution_count": 37,
      "metadata": {
        "id": "TyQ78Xt34yQe",
        "trusted": true
      },
      "outputs": [],
      "source": [
        "# def load_checkpoint(filepath):\n",
        "#     checkpoint = torch.load(filepath)\n",
        "#     model = checkpoint['model']\n",
        "#     model.load_state_dict(checkpoint['state_dict'])\n",
        "#     for parameter in model.parameters():\n",
        "#         parameter.requires_grad = True\n",
        "\n",
        "#     model.eval()\n",
        "\n",
        "#     return model\n",
        "# net = load_checkpoint('/content/drive/My Drive/checkpointv5.pt')\n",
        "# net.to(device)"
      ]
    },
    {
      "cell_type": "code",
      "execution_count": 38,
      "metadata": {
        "id": "7NTaRSWt-cz5"
      },
      "outputs": [],
      "source": [
        "# net = Network()\n",
        "# net.load_state_dict(torch.load(PATH_model, map_location=device))\n",
        "# net.to(device)"
      ]
    },
    {
      "cell_type": "code",
      "execution_count": 39,
      "metadata": {
        "id": "SFjNEL4s4yQh",
        "trusted": true
      },
      "outputs": [],
      "source": [
        "torch.cuda.empty_cache()"
      ]
    },
    {
      "cell_type": "code",
      "execution_count": 40,
      "metadata": {
        "colab": {
          "base_uri": "https://localhost:8080/"
        },
        "id": "DCKxhFORDU2Q",
        "outputId": "94fcfc04-3143-4e4b-9f56-61d8df3e3160"
      },
      "outputs": [
        {
          "data": {
            "text/plain": [
              "<torch.autograd.grad_mode.set_grad_enabled at 0x79b7a12907c0>"
            ]
          },
          "execution_count": 40,
          "metadata": {},
          "output_type": "execute_result"
        }
      ],
      "source": [
        "torch.set_grad_enabled(False)"
      ]
    },
    {
      "cell_type": "code",
      "execution_count": 41,
      "metadata": {
        "colab": {
          "base_uri": "https://localhost:8080/"
        },
        "id": "uqrcZBZ0Y-Sj",
        "outputId": "aacc1067-4c69-4cbf-9df9-7be951aca01c"
      },
      "outputs": [
        {
          "name": "stdout",
          "output_type": "stream",
          "text": [
            "Batch No:  1 , Test Batch Accuracy :  76.0\n",
            "Batch No:  2 , Test Batch Accuracy :  85.0\n",
            "Batch No:  3 , Test Batch Accuracy :  84.33333333333333\n",
            "Batch No:  4 , Test Batch Accuracy :  87.125\n",
            "Batch No:  5 , Test Batch Accuracy :  87.7\n",
            "Batch No:  6 , Test Batch Accuracy :  83.91666666666667\n",
            "Batch No:  7 , Test Batch Accuracy :  75.71428571428571\n",
            "Batch No:  8 , Test Batch Accuracy :  70.1875\n",
            "Batch No:  9 , Test Batch Accuracy :  66.22222222222223\n",
            "Batch No:  10 , Test Batch Accuracy :  63.45\n",
            "Batch No:  11 , Test Batch Accuracy :  65.63636363636364\n",
            "Batch No:  12 , Test Batch Accuracy :  67.66666666666667\n",
            "Batch No:  13 , Test Batch Accuracy :  68.65384615384616\n",
            "Batch No:  14 , Test Batch Accuracy :  66.92857142857143\n",
            "Batch No:  15 , Test Batch Accuracy :  62.63333333333333\n",
            "Batch No:  16 , Test Batch Accuracy :  58.875\n",
            "Batch No:  17 , Test Batch Accuracy :  55.5\n",
            "Batch No:  18 , Test Batch Accuracy :  52.416666666666664\n",
            "Batch No:  19 , Test Batch Accuracy :  49.6578947368421\n",
            "Batch No:  20 , Test Batch Accuracy :  47.35\n",
            "Batch No:  21 , Test Batch Accuracy :  46.30952380952381\n",
            "Batch No:  22 , Test Batch Accuracy :  45.06818181818182\n",
            "Batch No:  23 , Test Batch Accuracy :  43.97826086956522\n",
            "Batch No:  24 , Test Batch Accuracy :  45.229166666666664\n",
            "Batch No:  25 , Test Batch Accuracy :  47.4\n",
            "Batch No:  26 , Test Batch Accuracy :  48.67307692307692\n",
            "Batch No:  27 , Test Batch Accuracy :  49.407407407407405\n",
            "Batch No:  28 , Test Batch Accuracy :  48.19642857142857\n",
            "Batch No:  29 , Test Batch Accuracy :  47.13793103448276\n",
            "Batch No:  30 , Test Batch Accuracy :  46.21666666666667\n",
            "Batch No:  31 , Test Batch Accuracy :  45.354838709677416\n",
            "Batch No:  32 , Test Batch Accuracy :  46.984375\n",
            "Batch No:  33 , Test Batch Accuracy :  48.451730418943534\n",
            "0.48451730418943534\n"
          ]
        }
      ],
      "source": [
        "total_correct=0\n",
        "correct_predictions = []\n",
        "i=0\n",
        "total = 0\n",
        "test_loader = DataLoader(test_dataset, batch_size=200)\n",
        "for batch in test_loader:\n",
        "  image, label_original = batch\n",
        "  label = [test_label_map_dict[lab.item()] for lab in label_original]\n",
        "  label = torch.tensor(label)\n",
        "\n",
        "\n",
        "\n",
        "  pred = net(image.to(device))\n",
        "\n",
        "  total_correct += get_num_correct(pred,label.to(device))\n",
        "  correct_predictions.append(total_correct)\n",
        "\n",
        "  total += len(label)\n",
        "  acc = 100*total_correct/(total)\n",
        "  print('Batch No: ',i+1,', Test Batch Accuracy : ', acc)\n",
        "  i=i+1\n",
        "print(total_correct/len(test_dataset))"
      ]
    },
    {
      "cell_type": "code",
      "execution_count": null,
      "metadata": {
        "id": "FE1nqEox5WAV"
      },
      "outputs": [],
      "source": [
        " # total_correct=0\n",
        "# correct_predictions = []\n",
        "# i=0\n",
        "# total = 0\n",
        "# test_loader = DataLoader(test_dataset, batch_size=100)\n",
        "# for batch in test_loader:\n",
        "#   image, label_original = batch\n",
        "#   label = [test_label_map_dict[lab.item()] for lab in label_original]\n",
        "#   label = torch.tensor(label)\n",
        "\n",
        "\n",
        "\n",
        "#   pred = net(image.to(device))\n",
        "\n",
        "#   total_correct += get_num_correct(pred,label.to(device))\n",
        "#   correct_predictions.append(total_correct)\n",
        "\n",
        "#   total += len(label)\n",
        "#   acc = 100*total_correct/(total)\n",
        "#   print('Batch No: ',i+1,', Test Accuracy : ', acc)\n",
        "#   i=i+1\n",
        "# print(total_correct/len(test_dataset))"
      ]
    }
  ],
  "metadata": {
    "accelerator": "GPU",
    "colab": {
      "collapsed_sections": [
        "mZP7iKXhwwiK",
        "LrliTuk5JY_P",
        "qsT2726VOtn_",
        "WTk2063-Oton",
        "s1r10qKs6l4c"
      ],
      "provenance": [],
      "toc_visible": true
    },
    "kernelspec": {
      "display_name": "base",
      "language": "python",
      "name": "python3"
    },
    "language_info": {
      "codemirror_mode": {
        "name": "ipython",
        "version": 3
      },
      "file_extension": ".py",
      "mimetype": "text/x-python",
      "name": "python",
      "nbconvert_exporter": "python",
      "pygments_lexer": "ipython3",
      "version": "3.11.5"
    }
  },
  "nbformat": 4,
  "nbformat_minor": 0
}
